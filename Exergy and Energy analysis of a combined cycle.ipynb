{
 "cells": [
  {
   "cell_type": "code",
   "execution_count": 1,
   "metadata": {},
   "outputs": [],
   "source": [
    "from CoolProp.CoolProp import PropsSI \n",
    "import numpy as np\n",
    "import matplotlib.pyplot as plt \n",
    "\n",
    "T0=300                   #environment temperature\n",
    "m_a=1                   #mass flow rate of air\n"
   ]
  },
  {
   "cell_type": "code",
   "execution_count": 4,
   "metadata": {},
   "outputs": [
    {
     "name": "stdout",
     "output_type": "stream",
     "text": [
      "compressor input -370361.9987783382 \n",
      "\n",
      "irreversibility 28153.0650389996 \n",
      "\n",
      "Exergy efficiency 0.9239850062051068\n"
     ]
    }
   ],
   "source": [
    "# Air Compressor\n",
    "\n",
    "n_c=0.84                      #isentropic efficiency                        \n",
    "Pin_c=100000                  # Inlet pressure\n",
    "Tin_c=300                     #inlet temperature\n",
    "Pout_c=1200000                #outlet pressure\n",
    "Q_c=0                         #heat gain in compressor\n",
    "Fi_c=0                        # Exergy input by heat in compressor\n",
    "\n",
    "hin_c=PropsSI('H','P',Pin_c,'T',Tin_c,'Air')\n",
    "sin_c=PropsSI('S','P',Pin_c,'T',Tin_c,'Air')\n",
    "sout_cs=sin_c\n",
    "Pout_cs=Pout_c\n",
    "hout_cs=PropsSI('H','P',Pout_cs,'S',sout_cs,'Air')\n",
    "hout_c=hin_c+(hout_cs-hin_c)/n_c\n",
    "sout_c=PropsSI('S','P',Pout_c,'H',hout_c,'Air')\n",
    "###########################################################\n",
    "#1st law\n",
    "W_c=Q_c+m_a*(hin_c-hout_c)\n",
    "\n",
    "#2nd law\n",
    "I_c=Fi_c-W_c+m_a*(hin_c-hout_c-T0*(sin_c-sout_c))\n",
    "n_2_c= (W_c+I_c)/W_c\n",
    "\n",
    "#printig value:\n",
    "print('compressor input',W_c,'\\n')\n",
    "print('irreversibility',I_c,'\\n')\n",
    "print('Exergy efficiency',n_2_c)"
   ]
  },
  {
   "cell_type": "code",
   "execution_count": 6,
   "metadata": {},
   "outputs": [
    {
     "name": "stdout",
     "output_type": "stream",
     "text": [
      "heat input 846037.5661962205\n",
      "Exergy input 589974.4347588865\n",
      "Exergy efficiency 1.0\n"
     ]
    }
   ],
   "source": [
    "#Combustor\n",
    "\n",
    "hin_com=hout_c\n",
    "Pin_com=Pout_c\n",
    "Tout_com=1400\n",
    "Pout_com=Pin_com\n",
    "W_com=0\n",
    "I_com=0\n",
    "\n",
    "hin_com=PropsSI('H','P',Pin_com,'H',hin_com,'Air')\n",
    "sin_com=PropsSI('S','P',Pin_com,'H',hin_com,'Air')\n",
    "\n",
    "hout_com=PropsSI('H','P',Pout_c,'T',Tout_com,'Air')\n",
    "sout_com=PropsSI('S','P',Pout_c,'T',Tout_com,'Air')\n",
    "\n",
    "########################################\n",
    "#1st law\n",
    "Q_com=W_com-m_a*(hin_com-hout_com)\n",
    "\n",
    "#2nd law\n",
    "\n",
    "Fi_com=W_com-m_a*(hin_com-hout_com-T0*(sin_com-sout_com))\n",
    "n_2_com=(Fi_com-I_com)/Fi_com\n",
    "\n",
    "#printing value\n",
    "print('heat input',Q_com)\n",
    "print('Exergy input',Fi_com)\n",
    "print(\"Exergy efficiency\",n_2_com)\n",
    "\n"
   ]
  },
  {
   "cell_type": "code",
   "execution_count": 7,
   "metadata": {},
   "outputs": [
    {
     "name": "stdout",
     "output_type": "stream",
     "text": [
      "turbine outputput 658286.9448573011\n",
      "irreversibility 34038.984400560264\n",
      "Exergy efficiency 0.9508338732350406\n"
     ]
    }
   ],
   "source": [
    "# Air Turbine\n",
    "n_t_a=0.88                      #efficiency                         \n",
    "Pin_t_a=Pout_com                  # Inlet pressure\n",
    "Tin_t_a=Tout_com                     #inlet temperature\n",
    "Pout_t_a=100000                #outlet pressure\n",
    "Q_t_a=0                         #heat gain in turbine\n",
    "Fi_t_a=0                        # Exergy input by heat in turbine\n",
    "\n",
    "hin_t_a=PropsSI('H','P',Pin_t_a,'T',Tin_t_a,'Air')\n",
    "sin_t_a=PropsSI('S','P',Pin_t_a,'T',Tin_t_a,'Air')\n",
    "sout_ts_a=sin_t_a\n",
    "Pout_ts_a=Pout_t_a\n",
    "hout_ts_a=PropsSI('H','P',Pout_ts_a,'S',sout_ts_a,'Air')\n",
    "hout_t_a=hin_t_a+(hout_ts_a-hin_t_a)*n_t_a\n",
    "sout_t_a=PropsSI('S','P',Pout_t_a,'H',hout_t_a,'Air')\n",
    "\n",
    "######################################################################\n",
    "#1st law\n",
    "W_t_a=Q_t_a+m_a*(hin_t_a-hout_t_a)\n",
    "\n",
    "#2nd law\n",
    "I_t_a=Fi_t_a-W_t_a+m_a*(hin_t_a-hout_t_a-T0*(sin_t_a-sout_t_a))\n",
    "n_2_t_a= W_t_a/(W_t_a+I_t_a)\n",
    "\n",
    "#printig value:\n",
    "print('turbine outputput',W_t_a)\n",
    "print('irreversibility',I_t_a)\n",
    "print('Exergy efficiency',n_2_t_a)\n"
   ]
  },
  {
   "cell_type": "code",
   "execution_count": 8,
   "metadata": {},
   "outputs": [
    {
     "name": "stdout",
     "output_type": "stream",
     "text": [
      "mass flow rate of water 0.15470405199984053\n",
      "Irreversibility in HRSG 36478.14657086009\n",
      "Exergy efficiency of hrsg 0.8386032865304848\n",
      "pump work input -1555.9450282783123\n",
      "irreversibility of pump 296.2364333429248\n",
      "Exergy efficiency of pump 0.8096099618180489\n"
     ]
    }
   ],
   "source": [
    "#Pump and HRSG\n",
    "#Pump\n",
    "\n",
    "\n",
    "n_p=0.80                      #efficiency                         \n",
    "Pin_p=8000                  # Inlet pressure\n",
    "Qin_p=0                     #saturated water\n",
    "Pout_p=8000000\n",
    "Q_p=0                         #heat gain in compressor\n",
    "Fi_p=0                        # Exergy input by heat in compressor\n",
    "\n",
    "hin_p=PropsSI('H','P',Pin_p,'Q',Qin_p,'Water')\n",
    "sin_p=PropsSI('S','P',Pin_p,'Q',Qin_p,'Water')\n",
    "sout_ps=sin_p\n",
    "Pout_ps=Pout_p\n",
    "hout_ps=PropsSI('H','P',Pout_ps,'S',sout_ps,'Water')\n",
    "hout_p=hin_p+(hout_ps-hin_p)/n_p\n",
    "sout_p=PropsSI('S','P',Pout_p,'H',hout_p,'Water')\n",
    "\n",
    "#HRSG\n",
    "Q_hrsg=0\n",
    "W_hrsg=0\n",
    "Fi_hrsg=0\n",
    "Tout_hrsg_air=400\n",
    "Pout_hrsg_air=Pout_t_a\n",
    "\n",
    "Tout_hrsg_water=400+273\n",
    "Pout_hrsg_water=Pout_p\n",
    "\n",
    "hin_hrsg_air=hout_t_a\n",
    "sin_hrsg_air=sout_t_a\n",
    "hout_hrsg_air=PropsSI('H','P',Pout_hrsg_air,'T',Tout_hrsg_air,'Air')\n",
    "sout_hrsg_air=PropsSI('S','P',Pout_hrsg_air,'T',Tout_hrsg_air,'Air')\n",
    "\n",
    "hin_hrsg_water=hout_p\n",
    "sin_hrsg_water=sout_p\n",
    "hout_hrsg_water=PropsSI('H','P',Pout_hrsg_water,'T',Tout_hrsg_water,'Water')\n",
    "sout_hrsg_water=PropsSI('S','P',Pout_hrsg_water,'T',Tout_hrsg_water,'Water')\n",
    "#####################################################################################\n",
    "#1st law\n",
    "m_w=m_a*(hin_hrsg_air-hout_hrsg_air)/(hout_hrsg_water-hin_hrsg_water)\n",
    "print(\"mass flow rate of water\",m_w)\n",
    "\n",
    "#2nd law\n",
    "I_hrsg=Fi_hrsg-W_hrsg+m_a*(hin_hrsg_air-hout_hrsg_air-T0*(sin_hrsg_air-sout_hrsg_air))+m_w*(hin_hrsg_water-hout_hrsg_water-T0*(sin_hrsg_water-sout_hrsg_water))\n",
    "flow_exergy_hrsg=m_a*(hin_hrsg_air-hout_hrsg_air-T0*(sin_hrsg_air-sout_hrsg_air))\n",
    "n_2_hrsg=(flow_exergy_hrsg-I_hrsg)/flow_exergy_hrsg\n",
    "print('Irreversibility in HRSG',I_hrsg)\n",
    "print('Exergy efficiency of hrsg',n_2_hrsg)\n",
    "\n",
    "#pump\n",
    "#1st law\n",
    "W_p=Q_p+m_w*(hin_p-hout_p)\n",
    "print('pump work input', W_p)\n",
    "#2nd law\n",
    "I_p=Fi_p-W_p+m_w*(hin_p-hout_p-T0*(sin_p-sout_p))\n",
    "n_2_p=(W_p+I_p)/W_p\n",
    "print('irreversibility of pump',I_p)\n",
    "print('Exergy efficiency of pump',n_2_p)\n",
    "\n",
    "\n",
    "\n"
   ]
  },
  {
   "cell_type": "code",
   "execution_count": 10,
   "metadata": {},
   "outputs": [
    {
     "name": "stdout",
     "output_type": "stream",
     "text": [
      "turbine outputput 159935.29122534447\n",
      "irreversibility 16942.72322606985\n",
      "Exergy efficiency 0.9042123845712676\n"
     ]
    }
   ],
   "source": [
    "# Water Turbine\n",
    "n_t_w=0.90                      #efficiency                         \n",
    "Pin_t_w=Pout_hrsg_water                  # Inlet pressure\n",
    "Tin_t_w=Tout_hrsg_water                     #inlet temperature\n",
    "Pout_t_w=Pin_p                #outlet pressure\n",
    "Q_t_w=0                         #heat gain in turbine\n",
    "Fi_t_w=0                        # Exergy input by heat in turbine\n",
    "\n",
    "hin_t_w=PropsSI('H','P',Pin_t_w,'T',Tin_t_w,'Water')\n",
    "sin_t_w=PropsSI('S','P',Pin_t_w,'T',Tin_t_w,'Water')\n",
    "sout_ts_w=sin_t_w\n",
    "Pout_ts_w=Pout_t_w\n",
    "hout_ts_w=PropsSI('H','P',Pout_ts_w,'S',sout_ts_w,'Water')\n",
    "hout_t_w=hin_t_w+(hout_ts_w-hin_t_w)*n_t_w\n",
    "sout_t_w=PropsSI('S','P',Pout_t_w,'H',hout_t_w,'Water')\n",
    "\n",
    "######################################################################\n",
    "#1st law\n",
    "W_t_w=Q_t_w+m_w*(hin_t_w-hout_t_w)\n",
    "\n",
    "#2nd law\n",
    "I_t_w=Fi_t_w-W_t_w+m_w*(hin_t_w-hout_t_w-T0*(sin_t_w-sout_t_w))\n",
    "n_2_t_w=W_t_w/(W_t_w+I_t_w)\n",
    "#printig value:\n",
    "print('turbine outputput',W_t_w)\n",
    "print('irreversibility',I_t_w)\n",
    "print('Exergy efficiency',n_2_t_w)\n"
   ]
  },
  {
   "cell_type": "code",
   "execution_count": 14,
   "metadata": {},
   "outputs": [
    {
     "name": "stdout",
     "output_type": "stream",
     "text": [
      "heat output -298778.6596625886\n",
      "Exergy output -13918.97122470541\n",
      "Exergy efficiency 1.0\n"
     ]
    }
   ],
   "source": [
    "#Condenser\n",
    "\n",
    "hin_con=hout_t_w\n",
    "Pin_con=Pout_t_w\n",
    "Qout_con=0\n",
    "Pout_con=Pin_p\n",
    "W_con=0\n",
    "I_con=0\n",
    "\n",
    "hin_con=PropsSI('H','P',Pin_con,'H',hin_con,'Water')\n",
    "sin_con=PropsSI('S','P',Pin_con,'H',hin_con,'Water')\n",
    "\n",
    "hout_con=PropsSI('H','P',Pout_con,'Q',Qout_con,'Water')\n",
    "sout_con=PropsSI('S','P',Pout_con,'Q',Qout_con,'Water')\n",
    "\n",
    "########################################\n",
    "#1st law\n",
    "Q_con=W_con-m_w*(hin_con-hout_con)\n",
    "\n",
    "#2nd law\n",
    "\n",
    "Fi_con=W_con-m_w*(hin_con-hout_con-T0*(sin_con-sout_con))\n",
    "flow_exergy_con=m_w*(hin_con-hout_con-T0*(sin_con-sout_con))\n",
    "n_2_con=(flow_exergy_con-I_con)/flow_exergy_con\n",
    "\n",
    "#printing value\n",
    "print('heat output',Q_con)\n",
    "print('Exergy output',Fi_con)\n",
    "print('Exergy efficiency',n_2_con)"
   ]
  },
  {
   "cell_type": "code",
   "execution_count": 21,
   "metadata": {},
   "outputs": [
    {
     "data": {
      "text/plain": [
       "-5.820766091346741e-11"
      ]
     },
     "execution_count": 21,
     "metadata": {},
     "output_type": "execute_result"
    }
   ],
   "source": [
    "#energy balance of the cycle\n",
    "Q_net=Q_com+Q_con\n",
    "W_net=W_t_a+W_t_w+W_c+W_p\n",
    "Q_net-W_net+m_a*(hin_c-hout_hrsg_air)"
   ]
  },
  {
   "cell_type": "code",
   "execution_count": 22,
   "metadata": {},
   "outputs": [
    {
     "data": {
      "text/plain": [
       "-8.731149137020111e-11"
      ]
     },
     "execution_count": 22,
     "metadata": {},
     "output_type": "execute_result"
    }
   ],
   "source": [
    "#Exergy balance of the cycle\n",
    "Fi_net=Fi_com+Fi_con\n",
    "I_total=I_c+I_com+I_t_a+I_p+I_hrsg+I_t_w+I_con\n",
    "Fi_net-W_net+m_a*((hin_c-hout_hrsg_air)-T0*(sin_c-sout_hrsg_air))-I_total"
   ]
  },
  {
   "cell_type": "code",
   "execution_count": 23,
   "metadata": {},
   "outputs": [
    {
     "name": "stdout",
     "output_type": "stream",
     "text": [
      "Thermal/1st law efficiency 0.527523020381483\n",
      "Exergy/2nd law efficiency 0.7564807320141369\n"
     ]
    }
   ],
   "source": [
    "#overall efficiency\n",
    "n_1=W_net/Q_com\n",
    "n_2=W_net/Fi_com\n",
    "print('Thermal/1st law efficiency',n_1)\n",
    "print('Exergy/2nd law efficiency',n_2)"
   ]
  },
  {
   "cell_type": "code",
   "execution_count": 37,
   "metadata": {},
   "outputs": [
    {
     "data": {
      "image/png": "[encoded data removed]",
      "text/plain": [
       "<Figure size 576x432 with 1 Axes>"
      ]
     },
     "metadata": {
      "needs_background": "light"
     },
     "output_type": "display_data"
    }
   ],
   "source": [
    "#Componentwise exergy destruction\n",
    "objects = ('Compressor', 'Combustor', 'Air turbine', 'Pump', 'HRSG', 'Steam turbine','Condenser')\n",
    "y_pos = np.arange(len(objects))\n",
    "performance = [I_c,I_com,I_t_a,I_p,I_hrsg,I_t_w,I_con]\n",
    "\n",
    "plt.bar(y_pos, performance, align='center')\n",
    "plt.xticks(y_pos, objects)\n",
    "plt.ylabel('Exergy Destruction(W)')\n",
    "plt.title('Componentwise Exergy Destruction')\n",
    "fig=plt.gcf()\n",
    "fig.set_size_inches(8,6)\n",
    "plt.show()"
   ]
  },
  {
   "cell_type": "code",
   "execution_count": 35,
   "metadata": {},
   "outputs": [
    {
     "data": {
      "image/png": "[encoded data removed]",
      "text/plain": [
       "<Figure size 576x432 with 1 Axes>"
      ]
     },
     "metadata": {
      "needs_background": "light"
     },
     "output_type": "display_data"
    }
   ],
   "source": [
    "# Componentwise exergy efficiency\n",
    "objects = ('Compressor', 'Combustor', 'Air turbine', 'Pump', 'HRSG', 'Steam turbine','Condenser','Overall')\n",
    "y_pos = np.arange(len(objects))\n",
    "performance = [n_2_c,n_2_com,n_2_t_a,n_2_p,n_2_hrsg,n_2_t_w,n_2_con,n_2]\n",
    "\n",
    "plt.bar(y_pos, performance, align='center')\n",
    "plt.xticks(y_pos, objects)\n",
    "plt.ylabel('Exergy Efficiency')\n",
    "plt.title('Componentwise Exergy Efficiency')\n",
    "fig=plt.gcf()\n",
    "fig.set_size_inches(8,6)\n",
    "plt.show()"
   ]
  },
  {
   "cell_type": "code",
   "execution_count": 40,
   "metadata": {},
   "outputs": [
    {
     "data": {
      "image/png": "[encoded data removed]",
      "text/plain": [
       "<Figure size 576x432 with 1 Axes>"
      ]
     },
     "metadata": {
      "needs_background": "light"
     },
     "output_type": "display_data"
    }
   ],
   "source": [
    "# Heat and work input output\n",
    "objects = ('Compressor', 'Combustor', 'Air turbine', 'Pump', 'Steam turbine','Condenser')\n",
    "y_pos = np.arange(len(objects))\n",
    "performance = [-W_c,Q_com,W_t_a,-W_p,W_t_w,-Q_con]\n",
    "\n",
    "plt.bar(y_pos, performance, align='center')\n",
    "plt.xticks(y_pos, objects)\n",
    "plt.ylabel('Energy(W)')\n",
    "plt.title('Heat and work input?output')\n",
    "fig=plt.gcf()\n",
    "fig.set_size_inches(8,6)\n",
    "plt.show()"
   ]
  },
  {
   "cell_type": "code",
   "execution_count": null,
   "metadata": {},
   "outputs": [],
   "source": []
  }
 ],
 "metadata": {
  "kernelspec": {
   "display_name": "Python 3",
   "language": "python",
   "name": "python3"
  },
  "language_info": {
   "codemirror_mode": {
    "name": "ipython",
    "version": 3
   },
   "file_extension": ".py",
   "mimetype": "text/x-python",
   "name": "python",
   "nbconvert_exporter": "python",
   "pygments_lexer": "ipython3",
   "version": "3.7.6"
  }
 },
 "nbformat": 4,
 "nbformat_minor": 4
}
